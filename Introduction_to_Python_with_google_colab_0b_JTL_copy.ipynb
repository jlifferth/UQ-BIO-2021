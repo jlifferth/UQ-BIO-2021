{
  "nbformat": 4,
  "nbformat_minor": 0,
  "metadata": {
    "colab": {
      "name": "Introduction to Python with google colab 0b_JTL_copy.ipynb",
      "provenance": [],
      "collapsed_sections": [],
      "toc_visible": true,
      "include_colab_link": true
    },
    "kernelspec": {
      "name": "python3",
      "display_name": "Python 3"
    },
    "language_info": {
      "name": "python"
    }
  },
  "cells": [
    {
      "cell_type": "markdown",
      "metadata": {
        "id": "view-in-github",
        "colab_type": "text"
      },
      "source": [
        "<a href=\"https://colab.research.google.com/github/jlifferth/UQ-BIO-2021/blob/main/Introduction_to_Python_with_google_colab_0b_JTL_copy.ipynb\" target=\"_parent\"><img src=\"https://colab.research.google.com/assets/colab-badge.svg\" alt=\"Open In Colab\"/></a>"
      ]
    },
    {
      "cell_type": "markdown",
      "metadata": {
        "id": "yragkqwvZ6bU"
      },
      "source": [
        "# Intro to Python: Loops, Ranges, Functions, Lambdas, List Comprehension\n",
        "\n",
        "----------\n",
        "## Qbio Summer School 2021\n",
        "\n",
        "--------------\n",
        "```\n",
        "Instructor: Will Raymond\n",
        "Author: Will Raymond\n",
        "Contact Info: wsraymon@rams.colostate.edu\n",
        "\n",
        "Copyright (c) 2021 Dr. Brian Munsky. \n",
        "Dr. Luis Aguilera, Will Raymond\n",
        "Colorado State University.\n",
        "Licensed under MIT License.\n",
        "```\n",
        "\n",
        "Ok we have checked out a few of the default types of python, how do we actually put these together into usable code?\n",
        "\n",
        "The answer is loops, logic and functions.\n"
      ]
    },
    {
      "cell_type": "markdown",
      "metadata": {
        "id": "xMxDzuriVohE"
      },
      "source": [
        "## For Loops\n",
        "\n",
        "A for loop loops over values an iterable given, whether its a range(), list or dictionary. Python is uses indentations to define its code blocks, meaning you must indent the code to run in the for loop.\n",
        "\n",
        "``` \n",
        "for value in iterable:\n",
        "  #Inside the loop\n",
        "  print(value)\n",
        "\n",
        "print(value)\n",
        "#outside the loop\n",
        "```\n",
        "\n",
        "If you are iterating over a dictionary, note that it is not a set order and different instances of python may handle the ordering differently. Additionally when using ``` for x in dictionary```, Python will iterate over keys, not values. To iterate over values use ``` for x in dictionary.values()```\n"
      ]
    },
    {
      "cell_type": "code",
      "metadata": {
        "colab": {
          "base_uri": "https://localhost:8080/"
        },
        "id": "rusjOADxyDdg",
        "outputId": "49c81741-429f-41bd-fe05-2c830d93f3bb"
      },
      "source": [
        "# Example for loop!\n",
        "\n",
        "for i in range(0,5):  # for i iterating from 0 to 4, list(range(0,4)) = [0,1,2,3,4]\n",
        "  print('im in the loop!')\n",
        "  print(i)\n",
        "\n",
        "\n",
        "print('im outside the loop')"
      ],
      "execution_count": 1,
      "outputs": [
        {
          "output_type": "stream",
          "text": [
            "im in the loop!\n",
            "0\n",
            "im in the loop!\n",
            "1\n",
            "im in the loop!\n",
            "2\n",
            "im in the loop!\n",
            "3\n",
            "im in the loop!\n",
            "4\n",
            "im outside the loop\n"
          ],
          "name": "stdout"
        }
      ]
    },
    {
      "cell_type": "code",
      "metadata": {
        "colab": {
          "base_uri": "https://localhost:8080/"
        },
        "id": "zkKNIypFVq6D",
        "outputId": "1a195134-8e16-494d-bcac-e57306119722"
      },
      "source": [
        "example_iterables = {\"list\": [1,2,3],  # a list\n",
        "                     \"tuple\": (1,2,3), # a tuple\n",
        "                     \"range\": range(1,4), # a range object\n",
        "                     \"dict\": {'a':1,'b':2,'c':3}, # a dictionary\n",
        "                     \"dict.values()\":{'a':1,'b':2,'c':3}.values() # only a dictionaries values\n",
        "                     }\n",
        "\n",
        "iterable = \"range\" #@param [\"list\",\"tuple\",\"range\",\"dict\",\"dict.values()\"] {allow-input: true}\n",
        "print('iterating over a %s'%iterable)\n",
        "for x in example_iterables[iterable]:\n",
        "  print(x)"
      ],
      "execution_count": 4,
      "outputs": [
        {
          "output_type": "stream",
          "text": [
            "iterating over a range\n",
            "1\n",
            "2\n",
            "3\n"
          ],
          "name": "stdout"
        }
      ]
    },
    {
      "cell_type": "markdown",
      "metadata": {
        "id": "KL99T5FBVttq"
      },
      "source": [
        "## While Loops\n",
        "\n",
        "While loops will run until a particular condition is met or the statement ```break``` is reached. Like For loops you must indent the code inside for a new code block. However, be sure you give a way for the loop to break! Otherwise it will never end until manually killed by a user.\n",
        "\n",
        "Acceptable:\n",
        "\n",
        "```\n",
        "x = 0\n",
        "while x < 50:\n",
        "  x+=1\n",
        "```\n",
        "\n",
        "Unacceptable -- will never end:\n",
        "```\n",
        "while x == 0:\n",
        "  x=0\n",
        "```\n",
        "\n",
        "Acceptable -- will break once a particular value is reached:\n",
        "\n",
        "\n",
        "```\n",
        "import numpy as np   #import numpy so we can draw some random numbers\n",
        "\n",
        "desired_number = 23\n",
        "total_draws = 0\n",
        "while True: #this loop will run forever\n",
        "  x = np.random.randint(0,50) # draw a random number 0 - 49\n",
        "  total_draws += 1  #count how many numbers we drew\n",
        "  if x == desired_number:  #if the random number is the desired number, break the while loop\n",
        "    break   \n",
        "\n",
        "```\n"
      ]
    },
    {
      "cell_type": "code",
      "metadata": {
        "id": "w8_EJrpVVv66",
        "colab": {
          "base_uri": "https://localhost:8080/"
        },
        "outputId": "f366b01f-165f-4bf9-eb65-c59bd8305eae"
      },
      "source": [
        "x = 0\n",
        "print('x = %i before loop'%x)\n",
        "\n",
        "while x < 40:\n",
        "  x+=1\n",
        "print('x = %i after loop'%x)"
      ],
      "execution_count": 6,
      "outputs": [
        {
          "output_type": "stream",
          "text": [
            "x = 0 before loop\n",
            "x = 40 after loop\n"
          ],
          "name": "stdout"
        }
      ]
    },
    {
      "cell_type": "code",
      "metadata": {
        "id": "-2qUU10zVwB_",
        "colab": {
          "base_uri": "https://localhost:8080/"
        },
        "outputId": "521f58d6-cc24-4eda-9ced-111c7c891b1e"
      },
      "source": [
        "import numpy as np   #import numpy so we can draw some random numbers\n",
        "import time\n",
        "\n",
        "starting_time = time.time() #lets time how long this loop takes\n",
        "\n",
        "desired_number = 23\n",
        "total_draws = 0\n",
        "\n",
        "#beginning of the while loop, remember the code inside\n",
        "# the indentation is the code block in the while statement\n",
        "\n",
        "while True: #this loop will run forever\n",
        "  max_number = 408  #@param {type:\"slider\", min:0, max:1500, step:1}\n",
        "  x = np.random.randint(0,max_number) # draw a random number 0 - 49\n",
        "  total_draws += 1  #count how many numbers we drew\n",
        "  if x == desired_number:  #if the random number is the desired number, break the while loop\n",
        "    break   #end the while loop!\n",
        "\n",
        "\n",
        "execution_time = time.time()-starting_time \n",
        "print('Total draws til getting a %i: %i'%(desired_number,total_draws))\n",
        "print('Execution time of the loop %f seconds'%(execution_time))\n",
        "\n"
      ],
      "execution_count": 10,
      "outputs": [
        {
          "output_type": "stream",
          "text": [
            "Total draws til getting a 23: 2\n",
            "Execution time of the loop 0.000164 seconds\n"
          ],
          "name": "stdout"
        }
      ]
    },
    {
      "cell_type": "markdown",
      "metadata": {
        "id": "AAF08LKVVwq_"
      },
      "source": [
        "## Logic Statements\n",
        "\n",
        "Logical statments are also crucial to coding!\n",
        "\n",
        "\n",
        "| Operator    | Description | Example  | Result\n",
        "| ----------- | ----------- | ------------ | --------- |\n",
        "| ==      |  equal to   | ```1 == 1``` | ```True``` |\n",
        "| != | not equal to |   ```1 != 1``` | ```False``` |\n",
        "| >=   |  greater than or equal to   |    ```5 >= 1 ``` | ```True``` |\n",
        "| <= | less than or equal to |    ```1 <= 1 ``` | ```True``` |\n",
        "| > | greater than | ```1 > 3``` | ```False``` |\n",
        "| < | less than | ```1 < 3``` | ```True``` |\n",
        "\n",
        "\n",
        "\n",
        "| Operator    | Description | Example | Result\n",
        "| ----------- | ----------- | ------------ | ---------- |\n",
        "| and   |  multiple statements are true, return true | ```1==1 and 2==1 ```   | ```False``` |\n",
        "| or | one of multiple statements is true, return true |```1==1 or 2==1 ```   | ```True``` |\n",
        "| not   |  the opposite of a statement | ```not(1==1) ```    |  ```False``` |\n",
        "| is | are the objects the same? | ```int(1) is int(1)```  |  ```True``` |\n",
        "| is not | are the objects different?  | ```int(1) is float(1)```|  ```True``` |\n",
        "| in | is an object in an iterable?  | ```'a' in ['a','b','c]``` |  ```True``` |\n",
        "| not in | is an object not in an iterable? |```'f' not in ['a','b','c]```  |  ```True``` |\n",
        "\n"
      ]
    },
    {
      "cell_type": "markdown",
      "metadata": {
        "id": "md3miyISFfzX"
      },
      "source": [
        "## If Statements\n",
        "\n",
        "If statements run the code block if the logical condition they are handed is true.\n",
        "\n",
        "```\n",
        "x = 0\n",
        "if x == 1:\n",
        "  print('x equals 1')\n",
        "\n",
        "if x == 0: \n",
        "  print('x equals 0')\n",
        "\n",
        "```\n",
        "\n",
        "\n"
      ]
    },
    {
      "cell_type": "code",
      "metadata": {
        "colab": {
          "base_uri": "https://localhost:8080/"
        },
        "id": "ROph8iU_FvrX",
        "outputId": "be99f4b4-b209-4c9c-b91d-bf6ddb72deec"
      },
      "source": [
        "x = 1\n",
        "if x == 1:\n",
        "  print('x equals 1')\n",
        "\n",
        "if x == 0: \n",
        "  print('x equals 0')\n"
      ],
      "execution_count": 12,
      "outputs": [
        {
          "output_type": "stream",
          "text": [
            "x equals 1\n"
          ],
          "name": "stdout"
        }
      ]
    },
    {
      "cell_type": "markdown",
      "metadata": {
        "id": "dt-L0vDpTAIi"
      },
      "source": [
        "Additionally you can do multiple conditions with ```elif``` and ```else```\n",
        "\n",
        "In this example, the if else handles the case where x == 1 and x == anything else\n",
        "\n",
        "```\n",
        "x = 2\n",
        "if x == 1:\n",
        "  print('x equals 1')\n",
        "else:\n",
        "  print('x equals something other than 1)\n",
        "\n",
        "```\n"
      ]
    },
    {
      "cell_type": "code",
      "metadata": {
        "colab": {
          "base_uri": "https://localhost:8080/"
        },
        "id": "qtxg1fz4Fvyo",
        "outputId": "b038a7b4-f307-4210-d4f9-57e79bc6c729"
      },
      "source": [
        "x = 4\n",
        "if x == 1:\n",
        "  print('x equals 1')\n",
        "else:\n",
        "  print('x equals something other than 1')\n",
        " "
      ],
      "execution_count": 15,
      "outputs": [
        {
          "output_type": "stream",
          "text": [
            "x equals something other than 1\n"
          ],
          "name": "stdout"
        }
      ]
    },
    {
      "cell_type": "markdown",
      "metadata": {
        "id": "TvjVUVpPTOmB"
      },
      "source": [
        "with an ```elif``` statment you can handle multiple conditions, and the condition where nothing meets the above conditions.\n",
        "\n",
        "```\n",
        "x = 2\n",
        "if x == 1:\n",
        "  print('x equals 1')\n",
        "elif x==2:\n",
        "  print('x equals 1')\n",
        "elif x==3:\n",
        "  print('x equals 3')\n",
        "else:\n",
        "  print('x does not equal 1, 2, or 3')\n",
        "\n",
        "```\n"
      ]
    },
    {
      "cell_type": "code",
      "metadata": {
        "colab": {
          "base_uri": "https://localhost:8080/"
        },
        "id": "5qQ-KcvzTun3",
        "outputId": "138720ce-1523-42f6-ecf5-4333976b4797"
      },
      "source": [
        "\n",
        "x = \"3\" # @param [1,2,3,4,5,6]\n",
        "x = int(x) #convert str dropdown to an integer\n",
        "if x == 1:\n",
        "  print('x equals 1')\n",
        "elif x==2:\n",
        "  print('x equals 2')\n",
        "elif x==3:\n",
        "  print('x equals 3')\n",
        "else:\n",
        "  print('x does not equal 1, 2, or 3')"
      ],
      "execution_count": 17,
      "outputs": [
        {
          "output_type": "stream",
          "text": [
            "x equals 3\n"
          ],
          "name": "stdout"
        }
      ]
    },
    {
      "cell_type": "markdown",
      "metadata": {
        "id": "fHt0WskoV1En"
      },
      "source": [
        "## range, enumerate, zip\n",
        "\n",
        "range(start, stop, step) returns a range object containing an iterator of numbers start to stop in (integer) segments of step\n",
        "\n",
        "| Example  | Result\n",
        "| ------------ | --------- |\n",
        "| ```list(range(0,5))```   | ```[0,1,2,3,4,]```  |\n",
        "| ```list(range(5,0,-1))```   | ```[4,3,2,1,0]```  |\n",
        "| ```list(range(0,5,2))```   | ```[0,2,4]```  |\n",
        "\n",
        "```enumerate(iterable)``` is similar to iterating of the range of a length of an object, but enumerate gives a more readable form and returns out indexes of the iterable and the value of that index in the form of a tuple pair. For example convering the enumerate(list) would give you a list of tuples, with (index, list_value) as the entries in that list, take a glance:\n",
        "\n",
        "| Example  | Result\n",
        "| ------------ | --------- |\n",
        "| ```list(enumerate(['a','b','c']))```   | ```[(0, 'a'), (1, 'b'), (2, 'c')]```  |\n",
        "\n",
        "These three for loops are equivelant:\n",
        "```\n",
        "tmp_list = ['a','b','c','d','e']\n",
        "for i in range(0,len(tmp_list)):  \n",
        "  print(tmp_list[i])\n",
        "```\n",
        "\n",
        "```\n",
        "tmp_list = ['a','b','c','d','e']\n",
        "for ind,list_value in enumerate(tmp_list):\n",
        "  print(list_value)\n",
        "```\n",
        "\n",
        "```\n",
        "tmp_inds = [0,1,2,3,4]\n",
        "tmp_list = ['a','b','c','d','e']\n",
        "for ind,list_value in zip(tmp_inds,tmp_list):\n",
        "  print(list_value)\n",
        "```\n",
        "\n"
      ]
    },
    {
      "cell_type": "code",
      "metadata": {
        "id": "u-Ujdbl_V8m4",
        "colab": {
          "base_uri": "https://localhost:8080/"
        },
        "outputId": "76d68c6c-4f5c-41a2-c072-769542355dbf"
      },
      "source": [
        "print('Example For loop with a range:')\n",
        "for i in range(0,5):\n",
        "  print(i)\n",
        "\n",
        "print('')\n",
        "print('Example For loop with an enumerate of a list:')\n",
        "tmp_list = ['a','b','c','d','e']\n",
        "for index,value in enumerate(tmp_list):\n",
        "  print(index, value)\n",
        "\n",
        "\n",
        "print('')\n",
        "print('Example For loop with an zipped list indexes and values:')\n",
        "tmp_inds = [0,1,2,3,4]\n",
        "tmp_list = ['a','b','c','d','e']\n",
        "for ind,list_value in zip(tmp_inds,tmp_list):\n",
        "  print(ind, list_value)"
      ],
      "execution_count": 18,
      "outputs": [
        {
          "output_type": "stream",
          "text": [
            "Example For loop with a range:\n",
            "0\n",
            "1\n",
            "2\n",
            "3\n",
            "4\n",
            "\n",
            "Example For loop with an enumerate of a list:\n",
            "0 a\n",
            "1 b\n",
            "2 c\n",
            "3 d\n",
            "4 e\n",
            "\n",
            "Example For loop with an zipped list indexes and values:\n",
            "0 a\n",
            "1 b\n",
            "2 c\n",
            "3 d\n",
            "4 e\n"
          ],
          "name": "stdout"
        }
      ]
    },
    {
      "cell_type": "code",
      "metadata": {
        "id": "5XWsl1hmV8tr",
        "colab": {
          "base_uri": "https://localhost:8080/"
        },
        "outputId": "8819c0d4-098e-4394-9d76-6351efe05d42"
      },
      "source": [
        "list(enumerate(['a','b','c']))"
      ],
      "execution_count": 19,
      "outputs": [
        {
          "output_type": "execute_result",
          "data": {
            "text/plain": [
              "[(0, 'a'), (1, 'b'), (2, 'c')]"
            ]
          },
          "metadata": {
            "tags": []
          },
          "execution_count": 19
        }
      ]
    },
    {
      "cell_type": "markdown",
      "metadata": {
        "id": "gzvM8NNIV843"
      },
      "source": [
        "## List Comprehension\n",
        "\n",
        "List comprehension is a powerful method to process some of the looping logic in python without writing a full loop. For example these two statements in python are equivelant:\n",
        "\n",
        "```\n",
        "x = []\n",
        "for i in range(0,5):\n",
        "  x.append(i)\n",
        "```\n",
        "``` \n",
        "[x for x in range(0,5)]\n",
        "```\n",
        "both return a list filled with values 0 to 4. How does this list comprehension syntax work and what can we do with it?\n",
        "\n",
        "The general syntax goes as follows:\n",
        "\n",
        "``` [ statement for item in iterable if logic condition ]```\n",
        "\n",
        "The statment can be anything, but is usually a function of the item being iterated over in the list comprehension.\n",
        "\n",
        "For a statement with a logical condition, its equivalant to putting an if statement with a for loop\n",
        "\n",
        "```\n",
        "x = []\n",
        "for i in range(0,10):\n",
        "  if x < 5:\n",
        "    x.append(i)\n",
        "```\n",
        "``` \n",
        "[x for x in range(0,10) if x < 5]\n",
        "```\n",
        "\n",
        "Lets take a look at some examples:\n",
        "\n",
        "| Example    | Description | Result |\n",
        "| ----------- | ----------- | ------------ | \n",
        "| ```[int(x) for x in ['1','2','3']]```  |  for every item in the list of strings, convert it to an integer | ```[1,2,3] ```   |\n",
        "| ```[1 for x in ['1','2','3']]```  | would just return a 1 three times in a list since we dont change the statement in this instance |```[1,1,1]``` \n",
        "| ```[int(x)==1 for x in ['1','2','3']]```  |  for every item in the list of strings, convert it to an integer, then return true if its equal to 1 | ```[True, False, False] ```   |\n",
        "| ```[int(x) for x in ['1','2','3'] if int(x) < 3]```  |  for every item in the list of strings, convert it to an integer, only keep it if its less than 3 | ```[1,2] ```   |\n",
        "\n"
      ]
    },
    {
      "cell_type": "code",
      "metadata": {
        "id": "ynWDFP3DWA6R",
        "colab": {
          "base_uri": "https://localhost:8080/"
        },
        "outputId": "3bc514c6-5714-4563-80cd-78712f5de829"
      },
      "source": [
        "#  Example of getting the number of a set of characters in a string\n",
        "\n",
        "# our iterable, remember you can iterate over strings\n",
        "test_string = 'Heeello I am a long string with lots of characters, Lorem ipsum dolor sit amet, consectetur adipiscing elit, sed do eiusmod tempor'  \n",
        "# Lets use list comprehension to find out how many of a character set are in here\n",
        "character_set = ['e','a','i','o','u']\n",
        "\n",
        "matching_characters = [x.lower() for x in test_string if x.lower() in character_set]  # returns all matching characters\n",
        "character_values = [matching_characters.count(y) for y in character_set] # count the entries in the matching character list to get the values\n",
        "\n",
        "dict(zip(character_set, character_values ))  #turn it into a dictionary\n"
      ],
      "execution_count": 21,
      "outputs": [
        {
          "output_type": "execute_result",
          "data": {
            "text/plain": [
              "{'a': 6, 'e': 12, 'i': 10, 'o': 11, 'u': 3}"
            ]
          },
          "metadata": {
            "tags": []
          },
          "execution_count": 21
        }
      ]
    },
    {
      "cell_type": "code",
      "metadata": {
        "id": "vn3WA7_OWA8-",
        "colab": {
          "base_uri": "https://localhost:8080/"
        },
        "outputId": "540aa08c-2087-4ff7-afd7-ae6ad05f219f"
      },
      "source": [
        "#  Lets get the full counts of all unique characters in this string!!\n",
        "\n",
        "# our iterable, remember you can iterate over strings\n",
        "test_string = 'Hello I am a long sting with lots of characters, Lorem ipsum dolor sit amet, consectetur adipiscing elit, sed do eiusmod tempor'  \n",
        "\n",
        "character_set = list(set(list(test_string.lower()))) #all unique characters\n",
        "\n",
        "matching_characters = [x.lower() for x in test_string if x.lower() in character_set]  # returns all matching characters\n",
        "character_values = [matching_characters.count(y) for y in character_set] # count the entries in the matching character list to get the values\n",
        "\n",
        "dict(zip(character_set, character_values ))  #turn it into a dictionary"
      ],
      "execution_count": null,
      "outputs": [
        {
          "output_type": "execute_result",
          "data": {
            "text/plain": [
              "{' ': 21,\n",
              " ',': 3,\n",
              " 'a': 6,\n",
              " 'c': 5,\n",
              " 'd': 5,\n",
              " 'e': 10,\n",
              " 'f': 1,\n",
              " 'g': 3,\n",
              " 'h': 3,\n",
              " 'i': 10,\n",
              " 'l': 7,\n",
              " 'm': 6,\n",
              " 'n': 4,\n",
              " 'o': 11,\n",
              " 'p': 3,\n",
              " 'r': 6,\n",
              " 's': 9,\n",
              " 't': 10,\n",
              " 'u': 3,\n",
              " 'w': 1}"
            ]
          },
          "metadata": {
            "tags": []
          },
          "execution_count": 57
        }
      ]
    },
    {
      "cell_type": "markdown",
      "metadata": {
        "id": "ttPHCFS9WDUw"
      },
      "source": [
        "## Function Definitions\n",
        "\n",
        "What if you dont want to copy paste a large chunk of code every time you need to execute it?\n",
        "\n",
        "Heres where **functions** come in. Say we to use the previous sections code that gets the counts of all unique characters in a string, we can put that into something called a function definition.\n",
        "\n",
        "\n",
        "```\n",
        "def name(inputs, *args, **kwargs):\n",
        "  '''\n",
        "  doc string, documentation goes here\n",
        "  '''\n",
        "  code here\n",
        "  return result\n",
        "```\n",
        "\n",
        "Here we have introduced a couple new things, inputs, arguments (```*args```) and keyword arguments (```**kwargs```). Inputs are required inputs to the function otherwise python will return an error, Arguments are arbitrary inputs that have no keyword associated with them, and keyword arguments have a keyword associated with them. return denotes a variable to return from the function.\n",
        "\n",
        "```*``` denotes an unknown number of inputs, python will give these to the code in a tuple\n",
        "\n",
        "```**``` denotes an unknown number of named inputs that are provided to the code in a dictionary. \n",
        "\n",
        "So lets take our previous string to character counts result and turn it into a function!\n"
      ]
    },
    {
      "cell_type": "code",
      "metadata": {
        "id": "33ismCTPH6At"
      },
      "source": [
        "def str_to_char_count_dict(string, ):\n",
        "  '''\n",
        "  This code takes a string and will return a dictionary of unique lowercase characters and their counts within the input string\n",
        "\n",
        "  Parameters\n",
        "  ----------\n",
        "  string : str\n",
        "    input string to convert\n",
        "\n",
        "  Returns\n",
        "  -------\n",
        "  char_dictionary : dict \n",
        "    a dictionary of character counts from a string\n",
        "  '''\n",
        "  character_set = list(set(list(string.lower()))) #all unique characters\n",
        "  matching_characters = [x.lower() for x in string if x.lower() in character_set]  # returns all matching characters\n",
        "  character_values = [matching_characters.count(y) for y in character_set] # count the entries in the matching character list to get the values\n",
        "\n",
        "  return dict(zip(character_set, character_values ))  #turn it into a dictionary"
      ],
      "execution_count": 23,
      "outputs": []
    },
    {
      "cell_type": "code",
      "metadata": {
        "id": "-ey-rFuzWHcC",
        "colab": {
          "base_uri": "https://localhost:8080/"
        },
        "outputId": "34d4c0ea-7c54-4951-e9ee-3043c3c30a05"
      },
      "source": [
        "# lets use our new function!\n",
        "\n",
        "str_to_char_count_dict('new string! let\"s see what it do')"
      ],
      "execution_count": 26,
      "outputs": [
        {
          "output_type": "execute_result",
          "data": {
            "text/plain": [
              "{' ': 6,\n",
              " '!': 1,\n",
              " '\"': 1,\n",
              " 'a': 1,\n",
              " 'd': 1,\n",
              " 'e': 4,\n",
              " 'g': 1,\n",
              " 'h': 1,\n",
              " 'i': 2,\n",
              " 'l': 1,\n",
              " 'n': 2,\n",
              " 'o': 1,\n",
              " 'r': 1,\n",
              " 's': 3,\n",
              " 't': 4,\n",
              " 'w': 2}"
            ]
          },
          "metadata": {
            "tags": []
          },
          "execution_count": 26
        }
      ]
    },
    {
      "cell_type": "markdown",
      "metadata": {
        "id": "Hb68OcBoXWYE"
      },
      "source": [
        "How about what if we want more options for the user, with the same function? \n",
        "\n",
        "Here is where keyword arguments are useful as they allow you to set a default behaviour for a function. Lets add the functionality to keep the case when converting our string in the function. We denote this by adding the named argument keep_case with its default behaviour of false."
      ]
    },
    {
      "cell_type": "code",
      "metadata": {
        "id": "zvOOXGXoWHg7"
      },
      "source": [
        "def str_to_char_count_dict(string, keep_case=False ):\n",
        "  '''\n",
        "  This code takes a string and will return a dictionary of unique lowercase characters and their counts within the input string\n",
        "  This docstring formatting is called a numpy docstring\n",
        "  https://numpydoc.readthedocs.io/en/latest/format.html\n",
        "\n",
        "  Parameters\n",
        "  ----------\n",
        "  string : str\n",
        "    input string to convert\n",
        "  keep_case: bool, default: False\n",
        "    keep the case of the string when converting\n",
        "\n",
        "  Returns\n",
        "  -------\n",
        "  char_dictionary : dict \n",
        "    a dictionary of character counts from a string\n",
        "  '''\n",
        "  \n",
        "  if keep_case:\n",
        "    character_set = list(set(list(string))) #all unique characters (keep case)\n",
        "    matching_characters = [x for x in string if x in character_set]  # returns all matching characters doesnt convert case\n",
        "  else:\n",
        "    character_set = list(set(list(string.lower()))) #all unique characters\n",
        "    matching_characters = [x.lower() for x in string if x.lower() in character_set]  # returns all matching characters converts to lowercase\n",
        "  character_values = [matching_characters.count(y) for y in character_set] # count the entries in the matching character list to get the values\n",
        "\n",
        "  return dict(zip(character_set, character_values ))  #turn it into a dictionary"
      ],
      "execution_count": 28,
      "outputs": []
    },
    {
      "cell_type": "code",
      "metadata": {
        "colab": {
          "base_uri": "https://localhost:8080/"
        },
        "id": "k9fJSuSzX7Vw",
        "outputId": "45082741-9a25-4ca5-c21a-d80b265d5a43"
      },
      "source": [
        "str_to_char_count_dict('NeW sTrInG!', keep_case=True)"
      ],
      "execution_count": 30,
      "outputs": [
        {
          "output_type": "execute_result",
          "data": {
            "text/plain": [
              "{' ': 1,\n",
              " '!': 1,\n",
              " 'G': 1,\n",
              " 'I': 1,\n",
              " 'N': 1,\n",
              " 'T': 1,\n",
              " 'W': 1,\n",
              " 'e': 1,\n",
              " 'n': 1,\n",
              " 'r': 1,\n",
              " 's': 1}"
            ]
          },
          "metadata": {
            "tags": []
          },
          "execution_count": 30
        }
      ]
    },
    {
      "cell_type": "markdown",
      "metadata": {
        "id": "pduOPRNzWHsi"
      },
      "source": [
        "## Lambda function\n",
        "\n",
        "What if we dont want to go through the full trouble of writing and defining a function and just want a simple object that does one command? Lambda is the tool for you. Lambda also allows you to redefine and create arbitrary functions programatically!\n",
        "\n",
        "```obj = lambda *parameters: function```\n",
        "\n",
        "\n",
        "| Example    | Description | Result |\n",
        "| ----------- | ----------- | ------------ | \n",
        "| ``` squarer = lambda x: x**2``` |  provides a function that squares a single input | ```squarer(3) = 9 ```   |\n",
        "| ``` line = lambda x,m,b: m*x + b``` |  provides a y for the line given an x, m and b | ```line(3, 2, 5) = 11```   |\n",
        "\n"
      ]
    },
    {
      "cell_type": "code",
      "metadata": {
        "id": "QkqJ3nw0WMji",
        "colab": {
          "base_uri": "https://localhost:8080/"
        },
        "outputId": "920ea201-1204-437b-a014-63b50d05b310"
      },
      "source": [
        "squarer = lambda x: x**2\n",
        "\n",
        "print(squarer(3))\n",
        "print([squarer(x) for x in range(0,5)])"
      ],
      "execution_count": 32,
      "outputs": [
        {
          "output_type": "stream",
          "text": [
            "9\n",
            "[0, 1, 4, 9, 16]\n"
          ],
          "name": "stdout"
        }
      ]
    },
    {
      "cell_type": "code",
      "metadata": {
        "id": "oBLZCknmWMmC",
        "colab": {
          "base_uri": "https://localhost:8080/"
        },
        "outputId": "19f7bae8-71eb-445d-d818-3780e6ff9aa6"
      },
      "source": [
        "def power_generator(n):  # this function makes a function to the power of n\n",
        "   return lambda x: x**n\n",
        "\n",
        "power_functions = [power_generator(i) for i in range(0,5)]\n",
        "[pf(3) for pf in power_functions]\n"
      ],
      "execution_count": 35,
      "outputs": [
        {
          "output_type": "execute_result",
          "data": {
            "text/plain": [
              "[1, 3, 9, 27, 81]"
            ]
          },
          "metadata": {
            "tags": []
          },
          "execution_count": 35
        }
      ]
    },
    {
      "cell_type": "markdown",
      "metadata": {
        "id": "LPeOy1C0H7Et"
      },
      "source": [
        "## Map\n",
        "\n",
        "Finally a map is an easy way to pass an iterable to a function that only accepts limited inputs\n",
        "\n",
        "```\n",
        "map(function_to_iterate, iterable)\n",
        "```\n",
        "Results must be pulled out by converting the map result to a list\n",
        "\n",
        "```\n",
        "results = list(map_obj)\n",
        "```\n",
        "\n",
        "\n"
      ]
    },
    {
      "cell_type": "code",
      "metadata": {
        "colab": {
          "base_uri": "https://localhost:8080/"
        },
        "id": "DaqDD8b1dA7n",
        "outputId": "54f09223-3afa-42f2-afaf-473d2c6036c3"
      },
      "source": [
        "squarer = lambda x: x**2\n",
        "map_obj = map(squarer, range(0,10))\n",
        "print(list(map_obj))"
      ],
      "execution_count": 36,
      "outputs": [
        {
          "output_type": "stream",
          "text": [
            "[0, 1, 4, 9, 16, 25, 36, 49, 64, 81]\n"
          ],
          "name": "stdout"
        }
      ]
    },
    {
      "cell_type": "markdown",
      "metadata": {
        "id": "udncMKVWFl0_"
      },
      "source": [
        "# Questions"
      ]
    },
    {
      "cell_type": "code",
      "metadata": {
        "id": "cTQ6suEHdoyX",
        "colab": {
          "base_uri": "https://localhost:8080/"
        },
        "outputId": "2fa26cdf-e42a-463d-9213-a62f11b778c2"
      },
      "source": [
        "#@markdown Get all integers out of this string and into a list with list comprehension\n",
        "str_with_ints = \"1,3,51,4124.0,124,31\"\n",
        "\n",
        "# result = [1]# Answer\n",
        "str_with_ints = str_with_ints.split(',')\n",
        "result = [int(float(x)) for x in str_with_ints]\n",
        "print(result)\n",
        "\n",
        "print([\"Incorrect\", \"Correct\"][result == [1,3,51,4124,124,31]])\n"
      ],
      "execution_count": 13,
      "outputs": [
        {
          "output_type": "stream",
          "text": [
            "[1, 3, 51, 4124, 124, 31]\n",
            "Correct\n"
          ],
          "name": "stdout"
        }
      ]
    },
    {
      "cell_type": "code",
      "metadata": {
        "colab": {
          "base_uri": "https://localhost:8080/"
        },
        "id": "H4wqijASdy2m",
        "outputId": "c6519d4e-5612-42a7-8d6a-0d9885932b4c"
      },
      "source": [
        "#@markdown Write a complete this function named random_integer3_141 that returns a list of random integers between 3 and 141\n",
        "\n",
        "import time\n",
        "def random_integer3_141():\n",
        "  time.sleep(.1)\n",
        "  x = int(time.time())\n",
        "  lcrng = lambda x: (x*1664525 + 1013904223) % 0xFFFFFFE\n",
        "  for i in range(0,100):\n",
        "    x = lcrng(x)\n",
        "  \n",
        "  x = x % # insert modeulo here\n",
        "  result = #insert an iterable of numbers 3-141 here\n",
        "  return result[x]\n",
        "\n",
        "val = random_integer3_141()\n",
        "if isinstance(val,int) and val in list(range(3,142)):\n",
        "  print(\"Correct\")\n",
        "else:\n",
        "  print(\"Incorrect\")"
      ],
      "execution_count": null,
      "outputs": [
        {
          "output_type": "stream",
          "text": [
            "Incorrect\n"
          ],
          "name": "stdout"
        }
      ]
    },
    {
      "cell_type": "code",
      "metadata": {
        "colab": {
          "base_uri": "https://localhost:8080/",
          "height": 336
        },
        "id": "sNqkr4mlelNx",
        "outputId": "b5476cdd-fe7b-4d31-8112-2c93e17e9883"
      },
      "source": [
        "#@markdown Write a lambda function that calculates the Mean squared error of y and y_prime\n",
        "import numpy as np\n",
        "import matplotlib.pyplot as plt\n",
        "y = np.linspace(0,99,100)\n",
        "y_prime = y + np.random.randn(100)*5\n",
        "\n",
        "mse = #fill in lambda\n",
        "\n",
        "err = mse(y,y_prime)\n",
        "\n",
        "plt.plot(y,y)\n",
        "plt.plot(y,y_prime)\n",
        "\n",
        "print([\"Incorrect\", \"Correct\"][np.round(err,2) == np.round(np.mean((y-y_prime)**2) ,2) ])\n"
      ],
      "execution_count": null,
      "outputs": [
        {
          "output_type": "stream",
          "text": [
            "Correct\n"
          ],
          "name": "stdout"
        },
        {
          "output_type": "stream",
          "text": [
            "/usr/local/lib/python3.7/dist-packages/ipykernel_launcher.py:14: DeprecationWarning: In future, it will be an error for 'np.bool_' scalars to be interpreted as an index\n",
            "  \n"
          ],
          "name": "stderr"
        },
        {
          "output_type": "display_data",
          "data": {
            "image/png": "[encoded data removed]",
            "text/plain": [
              "<Figure size 432x288 with 1 Axes>"
            ]
          },
          "metadata": {
            "tags": [],
            "needs_background": "light"
          }
        }
      ]
    },
    {
      "cell_type": "code",
      "metadata": {
        "colab": {
          "base_uri": "https://localhost:8080/"
        },
        "id": "VefWl5e_bM14",
        "outputId": "70f8d214-cc30-4e6d-bf54-55cad7700432"
      },
      "source": [
        "np.round(err,2) == np.round(np.mean((y-y_prime)**2) ,2)"
      ],
      "execution_count": null,
      "outputs": [
        {
          "output_type": "execute_result",
          "data": {
            "text/plain": [
              "True"
            ]
          },
          "metadata": {
            "tags": []
          },
          "execution_count": 64
        }
      ]
    }
  ]
}